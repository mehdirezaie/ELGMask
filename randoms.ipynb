{
 "cells": [
  {
   "cell_type": "code",
   "execution_count": 1,
   "id": "d81e9af7",
   "metadata": {},
   "outputs": [],
   "source": [
    "import fitsio as ft\n",
    "import numpy as np\n",
    "from glob import glob\n",
    "from astropy.table import Table, vstack, hstack\n",
    "from scipy.interpolate import interp1d\n",
    "from sklearn.neighbors import KDTree\n",
    "import matplotlib.pyplot as plt\n",
    "import modules as ms\n",
    "import healpy as hp"
   ]
  },
  {
   "cell_type": "code",
   "execution_count": 2,
   "id": "28acb809",
   "metadata": {},
   "outputs": [],
   "source": [
    "# some useful functions to manipulate healpix data\n",
    "def hpixsum(nside, ra, dec, weights=None):\n",
    "    hpix = radec2hpix(nside, ra, dec)\n",
    "    npix = hp.nside2npix(nside)\n",
    "    weight_hp = np.bincount(hpix, weights=weights, minlength=npix)\n",
    "    return weight_hp\n",
    "\n",
    "\n",
    "def radec2hpix(nside, ra, dec):\n",
    "    hpix = hp.ang2pix(nside, np.radians(90 - dec), np.radians(ra))\n",
    "    return hpix\n",
    "\n",
    "\n",
    "def radec2pos(ra, dec):\n",
    "    \"\"\" converting ra dec to position on a unit sphere.\n",
    "        ra, dec are in degrees.\n",
    "    \"\"\"\n",
    "    pos = np.empty(len(ra), dtype=('f8', 3))\n",
    "    ra = ra * (np.pi / 180)\n",
    "    dec = dec * (np.pi / 180)\n",
    "    pos[:, 2] = np.sin(dec)\n",
    "    pos[:, 0] = np.cos(dec) * np.sin(ra)\n",
    "    pos[:, 1] = np.cos(dec) * np.cos(ra)\n",
    "    return pos\n",
    "\n",
    "def veto(coord, center, R):\n",
    "    \"\"\"\n",
    "        Returns a veto mask for coord. any coordinate within R of center\n",
    "        is vet.\n",
    "        Parameters\n",
    "        ----------\n",
    "        coord : (RA, DEC)\n",
    "        center : (RA, DEC)\n",
    "        R     : degrees\n",
    "        Returns\n",
    "        -------\n",
    "        Vetomask : True for veto, False for keep.\n",
    "    \"\"\"\n",
    "    pos_stars = radec2pos(center[0], center[1])\n",
    "    R = 2 * np.sin(np.radians(R) * 0.5)\n",
    "    pos_obj = radec2pos(coord[0], coord[1])\n",
    "    tree = KDTree(pos_obj)\n",
    "    vetoflag = np.zeros(len(pos_obj), dtype='?')\n",
    "    arg = tree.query_radius(pos_stars, r=R)\n",
    "    arg = np.concatenate(arg)\n",
    "    vetoflag[arg] = True\n",
    "    return vetoflag"
   ]
  },
  {
   "cell_type": "code",
   "execution_count": 3,
   "id": "dc8668ca",
   "metadata": {},
   "outputs": [
    {
     "name": "stdout",
     "output_type": "stream",
     "text": [
      "randoms-1-0.fits   randoms-1-15.fits  randoms-1-2.fits  randoms-1-8.fits\r\n",
      "randoms-1-10.fits  randoms-1-16.fits  randoms-1-3.fits  randoms-1-9.fits\r\n",
      "randoms-1-11.fits  randoms-1-17.fits  randoms-1-4.fits  \u001b[0m\u001b[01;34mrandoms-allsky\u001b[0m/\r\n",
      "randoms-1-12.fits  randoms-1-18.fits  randoms-1-5.fits\r\n",
      "randoms-1-13.fits  randoms-1-19.fits  randoms-1-6.fits\r\n",
      "randoms-1-14.fits  randoms-1-1.fits   randoms-1-7.fits\r\n"
     ]
    }
   ],
   "source": [
    "ls /fs/ess/PHS0336/data/tanveer/randoms/"
   ]
  },
  {
   "cell_type": "code",
   "execution_count": 4,
   "id": "f44ccfa1",
   "metadata": {},
   "outputs": [
    {
     "name": "stdout",
     "output_type": "stream",
     "text": [
      "randoms-allsky-1-0.fits   randoms-allsky-1-14.fits  randoms-allsky-1-7.fits\r\n",
      "randoms-allsky-1-12.fits  randoms-allsky-1-17.fits\r\n"
     ]
    }
   ],
   "source": [
    "ls /fs/ess/PHS0336/data/tanveer/randoms/randoms-allsky/"
   ]
  },
  {
   "cell_type": "code",
   "execution_count": 5,
   "id": "b9eb9810",
   "metadata": {},
   "outputs": [
    {
     "name": "stdout",
     "output_type": "stream",
     "text": [
      "data_dir            : /fs/ess/PHS0336/data/tanveer/elgmask\n",
      "gaia_path           : /fs/ess/PHS0336/data/tanveer/elgmask/gaia_lrg_mask_v1.fits\n",
      "gaia_suppl_path     : /fs/ess/PHS0336/data/tanveer/elgmask/gaia_reference_suppl_dr9.fits\n",
      "gaia_columns        : ['RA', 'DEC', 'mask_mag']\n",
      "target_class        : ELG\n",
      "maskbits            : [1, 12, 13]\n",
      "min_nobs            : 1\n",
      "\n"
     ]
    }
   ],
   "source": [
    "loader =  ms.DataLoader(maskbits=[1, 12, 13])"
   ]
  },
  {
   "cell_type": "code",
   "execution_count": 8,
   "id": "6a2b5461",
   "metadata": {},
   "outputs": [],
   "source": [
    "def project_randoms(photsys, nside):\n",
    "    field='north' if photsys=='N' else 'south'\n",
    "    maskbits = [1, 12, 13]\n",
    "    min_nobs = 1    \n",
    "    randoms_columns = ['RA', 'DEC', 'NOBS_G', 'NOBS_R', 'NOBS_Z', 'PHOTSYS', 'MASKBITS']\n",
    "    randoms_paths = ['/fs/ess/PHS0336/data/tanveer/randoms/randoms-1-12.fits', \n",
    "                     '/fs/ess/PHS0336/data/tanveer/randoms/randoms-1-0.fits',\n",
    "                     '/fs/ess/PHS0336/data/tanveer/randoms/randoms-1-14.fits',\n",
    "                     '/fs/ess/PHS0336/data/tanveer/randoms/randoms-1-7.fits',\n",
    "                      '/fs/ess/PHS0336/data/tanveer/randoms/randoms-1-17.fits']\n",
    "    print('len of files', len(randoms_paths))\n",
    "\n",
    "    randoms_density = ft.read_header(randoms_paths[0], ext=1)['DENSITY']  # randoms per sq. deg.\n",
    "    print(randoms_density)\n",
    "\n",
    "    randoms_stack = []\n",
    "    for randoms_path in randoms_paths:\n",
    "        print(randoms_path)\n",
    "        randoms = Table(ft.read(randoms_path, columns=randoms_columns))\n",
    "        randoms_stack.append(randoms)\n",
    "    randoms = vstack(randoms_stack)\n",
    "\n",
    "    mask = (randoms['PHOTSYS']==photsys)\n",
    "    randoms = randoms[mask]\n",
    "\n",
    "    mask = (randoms['NOBS_G']>=min_nobs) & (randoms['NOBS_R']>=min_nobs) & (randoms['NOBS_Z']>=min_nobs)\n",
    "    randoms = randoms[mask]\n",
    "\n",
    "    # Apply masks\n",
    "    randoms_clean = np.ones(len(randoms), dtype=bool)\n",
    "    for bit in maskbits:\n",
    "        randoms_clean &= (randoms['MASKBITS'] & 2**bit)==0\n",
    "    randoms = randoms[randoms_clean]\n",
    "\n",
    "    # Remove pixels near the LMC\n",
    "    ramin, ramax, decmin, decmax = 58, 110, -90, -56\n",
    "    mask_remove = (randoms['RA']>ramin) & (randoms['RA']<ramax) & (randoms['DEC']>decmin) & (randoms['DEC']<decmax)\n",
    "\n",
    "    print('randoms:', len(randoms))\n",
    "    randoms = randoms[~mask_remove]\n",
    "    print('randoms:', len(randoms))\n",
    "\n",
    "    gaia = loader.read_gaia(field)       # read gaia star catalog\n",
    "\n",
    "    radius_deg = gaia['radius'].data / 3600 # deg\n",
    "    center = (gaia['RA'].data, gaia['DEC'].data)\n",
    "    coordr = (randoms['RA'].data, randoms['DEC'].data)\n",
    "    is_badr = veto(coordr, center, radius_deg)\n",
    "\n",
    "    siena = loader.read_siena(field)       # read siena gal catalog\n",
    "    siena_mag_list = np.array([7.5, 9.5, 10.5, 11.5, 12.5, 13.5, 14.5, 15.5])\n",
    "    radii = [700., 400., 300., 250., 200., 125., 100.]\n",
    "    radii_int = interp1d(siena_mag_list[:-1], radii, bounds_error=False, fill_value='extrapolate')\n",
    "    is_good = siena['MAG_LEDA'] < 15.5\n",
    "    siena = siena[is_good]\n",
    "    siena['radius_mag'] = radii_int(siena['MAG_LEDA'])\n",
    "\n",
    "    radius_deg = siena['radius_mag'].data / 3600 # deg\n",
    "    center = (siena['RA'].data, siena['DEC'].data)\n",
    "    is_badr_siena = veto(coordr, center, radius_deg)\n",
    "\n",
    "    is_badr_tot = is_badr | is_badr_siena\n",
    "\n",
    "    del gaia\n",
    "    del siena\n",
    "    del coordr\n",
    "\n",
    "    randoms = randoms[~is_badr_tot]\n",
    "    wmap = hpixsum(nside, randoms['RA'], randoms['DEC'])*1.\n",
    "    hp.write_map(f'/fs/ess/PHS0336/data/tanveer/elgmask/randoms_{field}_hp_{nside}.fits', wmap, fits_IDL=False)\n",
    "    hp.mollview(wmap)"
   ]
  },
  {
   "cell_type": "code",
   "execution_count": 7,
   "id": "391435a5",
   "metadata": {},
   "outputs": [
    {
     "name": "stdout",
     "output_type": "stream",
     "text": [
      "len of files 5\n",
      "nside 2048\n",
      "2500\n",
      "/fs/ess/PHS0336/data/tanveer/randoms/randoms-allsky/randoms-allsky-1-12.fits\n",
      "/fs/ess/PHS0336/data/tanveer/randoms/randoms-allsky/randoms-allsky-1-0.fits\n",
      "/fs/ess/PHS0336/data/tanveer/randoms/randoms-allsky/randoms-allsky-1-14.fits\n",
      "/fs/ess/PHS0336/data/tanveer/randoms/randoms-allsky/randoms-allsky-1-7.fits\n",
      "/fs/ess/PHS0336/data/tanveer/randoms/randoms-allsky/randoms-allsky-1-17.fits\n"
     ]
    },
    {
     "name": "stderr",
     "output_type": "stream",
     "text": [
      "/users/PHS0336/medirz90/miniconda3/envs/sysnet/lib/python3.8/site-packages/healpy/fitsfunc.py:184: FutureWarning: The default dtype of write_map() will change in a future version: explicitly set the dtype if it is important to you\n",
      "  warnings.warn(\n"
     ]
    }
   ],
   "source": [
    "# project randoms into healpix\n",
    "randoms_columns = ['RA', 'DEC', 'NOBS_G', 'NOBS_R', 'NOBS_Z', 'PHOTSYS', 'MASKBITS']\n",
    "randoms_paths = ['/fs/ess/PHS0336/data/tanveer/randoms/randoms-allsky/randoms-allsky-1-12.fits', \n",
    "                 '/fs/ess/PHS0336/data/tanveer/randoms/randoms-allsky/randoms-allsky-1-0.fits',\n",
    "                 '/fs/ess/PHS0336/data/tanveer/randoms/randoms-allsky/randoms-allsky-1-14.fits',\n",
    "                 '/fs/ess/PHS0336/data/tanveer/randoms/randoms-allsky/randoms-allsky-1-7.fits',\n",
    "                  '/fs/ess/PHS0336/data/tanveer/randoms/randoms-allsky/randoms-allsky-1-17.fits']\n",
    "print('len of files', len(randoms_paths))\n",
    "nside = 2048\n",
    "print('nside', nside)\n",
    "\n",
    "randoms_density = ft.read_header(randoms_paths[0], ext=1)['DENSITY']  # randoms per sq. deg.\n",
    "print(randoms_density)\n",
    "\n",
    "randoms_stack = []\n",
    "for randoms_path in randoms_paths:\n",
    "    print(randoms_path)\n",
    "    randoms = Table(ft.read(randoms_path, columns=randoms_columns))\n",
    "    randoms_stack.append(randoms)\n",
    "randoms = vstack(randoms_stack)\n",
    "wmap_allsky = hpixsum(nside, randoms['RA'], randoms['DEC'])*1.\n",
    "hp.write_map(f'/fs/ess/PHS0336/data/tanveer/elgmask/randoms_allsky_hp_{nside}.fits', wmap_allsky, fits_IDL=False)"
   ]
  },
  {
   "cell_type": "code",
   "execution_count": null,
   "id": "3e1cd85b",
   "metadata": {},
   "outputs": [
    {
     "name": "stdout",
     "output_type": "stream",
     "text": [
      "len of files 5\n",
      "2500\n",
      "/fs/ess/PHS0336/data/tanveer/randoms/randoms-1-12.fits\n",
      "/fs/ess/PHS0336/data/tanveer/randoms/randoms-1-0.fits\n",
      "/fs/ess/PHS0336/data/tanveer/randoms/randoms-1-14.fits\n",
      "/fs/ess/PHS0336/data/tanveer/randoms/randoms-1-7.fits\n",
      "/fs/ess/PHS0336/data/tanveer/randoms/randoms-1-17.fits\n",
      "randoms: 62660364\n",
      "randoms: 62660364\n",
      "# of gaia objects: 41065340\n",
      "# of gaia objects (north): 10862797\n",
      "# of Siena objects: 383620\n",
      "# of gaia objects (north): 104237\n"
     ]
    }
   ],
   "source": [
    "project_randoms('N', nside)\n",
    "project_randoms('S', nside)"
   ]
  },
  {
   "cell_type": "code",
   "execution_count": null,
   "id": "ef13f912",
   "metadata": {
    "scrolled": true
   },
   "outputs": [],
   "source": [
    "ls /fs/ess/PHS0336/data/tanveer/elgmask/"
   ]
  },
  {
   "cell_type": "code",
   "execution_count": null,
   "id": "bbf5022b",
   "metadata": {},
   "outputs": [],
   "source": [
    "random_north = hp.read_map(f'/fs/ess/PHS0336/data/tanveer/elgmask/randoms_north_hp_{nside}.fits')\n",
    "random_south = hp.read_map(f'/fs/ess/PHS0336/data/tanveer/elgmask/randoms_south_hp_{nside}.fits')\n",
    "random_all = hp.read_map(f'/fs/ess/PHS0336/data/tanveer/elgmask/randoms_allsky_hp_{nside}.fits')"
   ]
  },
  {
   "cell_type": "code",
   "execution_count": null,
   "id": "e6711918",
   "metadata": {},
   "outputs": [],
   "source": [
    "random = random_north + random_south"
   ]
  },
  {
   "cell_type": "code",
   "execution_count": null,
   "id": "279088a2",
   "metadata": {},
   "outputs": [],
   "source": [
    "frac = random / random_all"
   ]
  },
  {
   "cell_type": "code",
   "execution_count": null,
   "id": "7df1eecd",
   "metadata": {},
   "outputs": [],
   "source": [
    "hp.mollview(frac)"
   ]
  },
  {
   "cell_type": "code",
   "execution_count": null,
   "id": "301728a8",
   "metadata": {},
   "outputs": [],
   "source": [
    "hp.write_map(f'/fs/ess/PHS0336/data/tanveer/elgmask/fracgood_hp_{nside}.fits', frac, fits_IDL=False)"
   ]
  }
 ],
 "metadata": {
  "kernelspec": {
   "display_name": "sysnet",
   "language": "python",
   "name": "sysnet"
  },
  "language_info": {
   "codemirror_mode": {
    "name": "ipython",
    "version": 3
   },
   "file_extension": ".py",
   "mimetype": "text/x-python",
   "name": "python",
   "nbconvert_exporter": "python",
   "pygments_lexer": "ipython3",
   "version": "3.8.12"
  }
 },
 "nbformat": 4,
 "nbformat_minor": 5
}
